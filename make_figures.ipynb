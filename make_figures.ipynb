{
 "cells": [
  {
   "cell_type": "code",
   "execution_count": null,
   "metadata": {},
   "outputs": [],
   "source": [
    "%load_ext autoreload\n",
    "%autoreload 2\n",
    "\n",
    "from pathlib import Path\n",
    "import warnings\n",
    "\n",
    "import torch\n",
    "import matplotlib as mpl\n",
    "import matplotlib.pyplot as plt\n",
    "import seaborn as sns\n",
    "import pandas as pd\n",
    "import numpy as np\n",
    "\n",
    "from conformal.dataframes import load_df, set_test_metrics_columns, op_without_index\n",
    "from conformal.plot import set_notebook_options, plot_coverage, plot_metrics_on_real_world_datasets_with_separate_axes, savefig, plot_metrics_for_varying_trainingsize\n",
    "from conformal.visu import map_model, map_dataset\n",
    "\n",
    "set_notebook_options()\n",
    "warnings.filterwarnings('ignore', 'All-NaN axis encountered')\n",
    "\n",
    "exp_name = 'final'\n",
    "path = Path('figures') / exp_name\n",
    "results_path = Path('results_conf') / exp_name\n",
    "torch.cuda.is_available()"
   ]
  },
  {
   "cell_type": "markdown",
   "metadata": {},
   "source": [
    "## Loading"
   ]
  },
  {
   "cell_type": "code",
   "execution_count": null,
   "metadata": {},
   "outputs": [],
   "source": [
    "df_raw = load_df(results_path)\n",
    "set_test_metrics_columns(df_raw)"
   ]
  },
  {
   "cell_type": "markdown",
   "metadata": {},
   "source": [
    "## Preprocessing"
   ]
  },
  {
   "cell_type": "code",
   "execution_count": null,
   "metadata": {},
   "outputs": [],
   "source": [
    "def op(df):\n",
    "    df = df.copy()\n",
    "    df['model'] = df['model'].map(map_model)\n",
    "    df['dataset'] = df['dataset'].map(map_dataset)\n",
    "    return df\n",
    "\n",
    "df = op_without_index(df_raw, op)\n",
    "\n",
    "def relative_length(x):\n",
    "    return x / x.min()\n",
    "\n",
    "df['relative_length'] = df.groupby(list(set(df.index.names) - {'conformalizer', 'run_id'}), dropna=False)['specialized_length'].transform(relative_length)"
   ]
  },
  {
   "cell_type": "markdown",
   "metadata": {},
   "source": [
    "## Metrics plots"
   ]
  },
  {
   "cell_type": "code",
   "execution_count": null,
   "metadata": {},
   "outputs": [],
   "source": [
    "mpl.rcParams['axes.formatter.limits'] = (-4, 4)\n",
    "\n",
    "for type, plot_df in df.groupby('type', dropna=False):\n",
    "    plot_df = plot_df.query('cal_size.isna() or cal_size == 1024')\n",
    "    for model, df_model in plot_df.groupby('model', dropna=False):\n",
    "        plot_metrics_on_real_world_datasets_with_separate_axes(df_model.query('dataset != \"Hawkes\"'), alpha=0.2, type=type)\n",
    "        savefig(path / 'real_world_metrics' / 'per_model' / f'{model}_{type}.pdf')"
   ]
  },
  {
   "cell_type": "markdown",
   "metadata": {},
   "source": [
    "## Coverage per level plots"
   ]
  },
  {
   "cell_type": "code",
   "execution_count": null,
   "metadata": {},
   "outputs": [],
   "source": [
    "for metric in ['coverage', 'wsc']:\n",
    "    for type, df_type in df.groupby('type', dropna=False):\n",
    "        df_type = df_type.query('cal_size.isna() or cal_size == 1024')\n",
    "        for model, df_model in df_type.groupby('model', dropna=False):\n",
    "            plot_coverage(df_model, metric, ncols=6, type=type)\n",
    "            savefig(path / f'{metric}_per_level' / model / f'{type}.pdf')"
   ]
  },
  {
   "cell_type": "markdown",
   "metadata": {},
   "source": [
    "## Others"
   ]
  },
  {
   "cell_type": "code",
   "execution_count": null,
   "metadata": {},
   "outputs": [],
   "source": [
    "for type, plot_df in df.groupby('type', dropna=False):\n",
    "    for model, df_model in plot_df.groupby('model', dropna=False):\n",
    "        plot_metrics_for_varying_trainingsize(df_model, alpha=0.2, type=type)\n",
    "        savefig(path / 'trainingsize' / f'train_{model}_{type}.pdf')"
   ]
  }
 ],
 "metadata": {
  "kernelspec": {
   "display_name": "Python 3.10.4 64-bit",
   "language": "python",
   "name": "python3"
  },
  "language_info": {
   "codemirror_mode": {
    "name": "ipython",
    "version": 3
   },
   "file_extension": ".py",
   "mimetype": "text/x-python",
   "name": "python",
   "nbconvert_exporter": "python",
   "pygments_lexer": "ipython3",
   "version": "3.9.18"
  },
  "orig_nbformat": 4,
  "vscode": {
   "interpreter": {
    "hash": "916dbcbb3f70747c44a77c7bcd40155683ae19c65e1c03b4aa3499c5328201f1"
   }
  }
 },
 "nbformat": 4,
 "nbformat_minor": 2
}
